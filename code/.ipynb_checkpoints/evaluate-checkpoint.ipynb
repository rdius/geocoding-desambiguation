{
 "cells": [
  {
   "cell_type": "code",
   "execution_count": 15,
   "metadata": {},
   "outputs": [],
   "source": [
    "import pandas as pd\n",
    "from sklearn.metrics import accuracy_score, f1_score, precision_score, recall_score, classification_report, confusion_matrix"
   ]
  },
  {
   "cell_type": "code",
   "execution_count": 3,
   "metadata": {},
   "outputs": [
    {
     "data": {
      "application/javascript": [
       "\n",
       "        if (window._pyforest_update_imports_cell) { window._pyforest_update_imports_cell('import pandas as pd'); }\n",
       "    "
      ],
      "text/plain": [
       "<IPython.core.display.Javascript object>"
      ]
     },
     "metadata": {},
     "output_type": "display_data"
    },
    {
     "data": {
      "application/javascript": [
       "\n",
       "        if (window._pyforest_update_imports_cell) { window._pyforest_update_imports_cell('import pandas as pd'); }\n",
       "    "
      ],
      "text/plain": [
       "<IPython.core.display.Javascript object>"
      ]
     },
     "metadata": {},
     "output_type": "display_data"
    }
   ],
   "source": [
    "## load data\n",
    "# groundTrueData -> Geovirus data with associated Country Code \n",
    "# GeocodedData -> desambiguated data \n",
    "#    * Sne detected in Geovirus corpus with spacy\n",
    "#    * geocoded, and desambiguated\n",
    "groundTrueData = pd.read_csv('../geocoded/Geovirusdata_reverse.csv')\n",
    "GeocodedData = pd.read_csv('../geocoded/Geovidata_geocod_dsamb.csv')"
   ]
  },
  {
   "cell_type": "code",
   "execution_count": 22,
   "metadata": {},
   "outputs": [],
   "source": [
    "#######ON REEL SNEs data (without using Spacy)\n",
    "# groundTrueData = pd.read_csv('../geocoded/Geovirusdata_reverse.csv')\n",
    "# GeocodedData = pd.read_csv('../geocoded/GeovirusdataTrueSne.csv')"
   ]
  },
  {
   "cell_type": "code",
   "execution_count": 4,
   "metadata": {},
   "outputs": [
    {
     "data": {
      "text/plain": [
       "1516"
      ]
     },
     "execution_count": 4,
     "metadata": {},
     "output_type": "execute_result"
    }
   ],
   "source": [
    "len(groundTrueData)"
   ]
  },
  {
   "cell_type": "code",
   "execution_count": 5,
   "metadata": {},
   "outputs": [
    {
     "data": {
      "text/plain": [
       "(1516, 1419)"
      ]
     },
     "execution_count": 5,
     "metadata": {},
     "output_type": "execute_result"
    }
   ],
   "source": [
    "len(groundTrueData), len(GeocodedData)"
   ]
  },
  {
   "cell_type": "code",
   "execution_count": 6,
   "metadata": {},
   "outputs": [],
   "source": [
    "#\n",
    "GeocodedData.rename(columns={'SNE Name': 'name'}, inplace=True)"
   ]
  },
  {
   "cell_type": "code",
   "execution_count": 9,
   "metadata": {},
   "outputs": [],
   "source": [
    "### Delete rows without Country Code\n",
    "df_groundTrueData = groundTrueData[groundTrueData['Cc'].notnull()]\n",
    "df_GeocodedData = GeocodedData[GeocodedData['Country Code'].notnull()]"
   ]
  },
  {
   "cell_type": "code",
   "execution_count": 10,
   "metadata": {},
   "outputs": [],
   "source": [
    "# df_GeocodedData = Geovirusdata_geo[Geovirusdata_geo['Country Code'].notnull()]"
   ]
  },
  {
   "cell_type": "code",
   "execution_count": 11,
   "metadata": {},
   "outputs": [
    {
     "data": {
      "text/plain": [
       "(1504, 1419)"
      ]
     },
     "execution_count": 11,
     "metadata": {},
     "output_type": "execute_result"
    }
   ],
   "source": [
    "len(df_groundTrueData), len(df_GeocodedData)"
   ]
  },
  {
   "cell_type": "code",
   "execution_count": null,
   "metadata": {},
   "outputs": [],
   "source": []
  },
  {
   "cell_type": "code",
   "execution_count": 12,
   "metadata": {},
   "outputs": [
    {
     "data": {
      "application/javascript": [
       "\n",
       "        if (window._pyforest_update_imports_cell) { window._pyforest_update_imports_cell('import pandas as pd'); }\n",
       "    "
      ],
      "text/plain": [
       "<IPython.core.display.Javascript object>"
      ]
     },
     "metadata": {},
     "output_type": "display_data"
    }
   ],
   "source": [
    "merged_df = pd.merge(df_groundTrueData, df_GeocodedData, on=['source', 'name'])"
   ]
  },
  {
   "cell_type": "code",
   "execution_count": 13,
   "metadata": {},
   "outputs": [
    {
     "name": "stdout",
     "output_type": "stream",
     "text": [
      "1115\n"
     ]
    },
    {
     "data": {
      "text/html": [
       "<div>\n",
       "<style scoped>\n",
       "    .dataframe tbody tr th:only-of-type {\n",
       "        vertical-align: middle;\n",
       "    }\n",
       "\n",
       "    .dataframe tbody tr th {\n",
       "        vertical-align: top;\n",
       "    }\n",
       "\n",
       "    .dataframe thead th {\n",
       "        text-align: right;\n",
       "    }\n",
       "</style>\n",
       "<table border=\"1\" class=\"dataframe\">\n",
       "  <thead>\n",
       "    <tr style=\"text-align: right;\">\n",
       "      <th></th>\n",
       "      <th>source</th>\n",
       "      <th>name</th>\n",
       "      <th>lat_x</th>\n",
       "      <th>lng_x</th>\n",
       "      <th>DocNo</th>\n",
       "      <th>geom</th>\n",
       "      <th>Cc</th>\n",
       "      <th>Unnamed: 0</th>\n",
       "      <th>lat_y</th>\n",
       "      <th>lng_y</th>\n",
       "      <th>Country Code</th>\n",
       "      <th>Type</th>\n",
       "      <th>Population</th>\n",
       "    </tr>\n",
       "  </thead>\n",
       "  <tbody>\n",
       "    <tr>\n",
       "      <th>0</th>\n",
       "      <td>Philippines_is_culling_6500_hogs_after_Reston_...</td>\n",
       "      <td>Pandi</td>\n",
       "      <td>14.87</td>\n",
       "      <td>120.95</td>\n",
       "      <td>0</td>\n",
       "      <td>14.87,120.95</td>\n",
       "      <td>PH</td>\n",
       "      <td>132</td>\n",
       "      <td>14.87462</td>\n",
       "      <td>120.96683</td>\n",
       "      <td>PH</td>\n",
       "      <td>A</td>\n",
       "      <td>89075</td>\n",
       "    </tr>\n",
       "    <tr>\n",
       "      <th>1</th>\n",
       "      <td>Philippines_is_culling_6500_hogs_after_Reston_...</td>\n",
       "      <td>Central Luzon</td>\n",
       "      <td>15.47</td>\n",
       "      <td>120.75</td>\n",
       "      <td>0</td>\n",
       "      <td>15.47,120.75</td>\n",
       "      <td>PH</td>\n",
       "      <td>131</td>\n",
       "      <td>15.30714</td>\n",
       "      <td>120.79762</td>\n",
       "      <td>PH</td>\n",
       "      <td>A</td>\n",
       "      <td>10137737</td>\n",
       "    </tr>\n",
       "    <tr>\n",
       "      <th>2</th>\n",
       "      <td>Philippines_is_culling_6500_hogs_after_Reston_...</td>\n",
       "      <td>Bulacan</td>\n",
       "      <td>15.00</td>\n",
       "      <td>121.08</td>\n",
       "      <td>0</td>\n",
       "      <td>15,121.08</td>\n",
       "      <td>PH</td>\n",
       "      <td>130</td>\n",
       "      <td>6.56306</td>\n",
       "      <td>125.41000</td>\n",
       "      <td>PH</td>\n",
       "      <td>P</td>\n",
       "      <td>0</td>\n",
       "    </tr>\n",
       "    <tr>\n",
       "      <th>3</th>\n",
       "      <td>Philippines_is_culling_6500_hogs_after_Reston_...</td>\n",
       "      <td>Bulacan</td>\n",
       "      <td>15.00</td>\n",
       "      <td>121.08</td>\n",
       "      <td>1</td>\n",
       "      <td>15,121.08</td>\n",
       "      <td>PH</td>\n",
       "      <td>884</td>\n",
       "      <td>6.56306</td>\n",
       "      <td>125.41000</td>\n",
       "      <td>PH</td>\n",
       "      <td>P</td>\n",
       "      <td>0</td>\n",
       "    </tr>\n",
       "    <tr>\n",
       "      <th>4</th>\n",
       "      <td>Philippines_is_culling_6500_hogs_after_Reston_...</td>\n",
       "      <td>Manaoag</td>\n",
       "      <td>16.04</td>\n",
       "      <td>120.48</td>\n",
       "      <td>1</td>\n",
       "      <td>16.04,120.48</td>\n",
       "      <td>PH</td>\n",
       "      <td>881</td>\n",
       "      <td>17.17233</td>\n",
       "      <td>121.76469</td>\n",
       "      <td>PH</td>\n",
       "      <td>P</td>\n",
       "      <td>0</td>\n",
       "    </tr>\n",
       "  </tbody>\n",
       "</table>\n",
       "</div>"
      ],
      "text/plain": [
       "                                              source           name  lat_x  \\\n",
       "0  Philippines_is_culling_6500_hogs_after_Reston_...          Pandi  14.87   \n",
       "1  Philippines_is_culling_6500_hogs_after_Reston_...  Central Luzon  15.47   \n",
       "2  Philippines_is_culling_6500_hogs_after_Reston_...        Bulacan  15.00   \n",
       "3  Philippines_is_culling_6500_hogs_after_Reston_...        Bulacan  15.00   \n",
       "4  Philippines_is_culling_6500_hogs_after_Reston_...        Manaoag  16.04   \n",
       "\n",
       "    lng_x  DocNo          geom  Cc  Unnamed: 0     lat_y      lng_y  \\\n",
       "0  120.95      0  14.87,120.95  PH         132  14.87462  120.96683   \n",
       "1  120.75      0  15.47,120.75  PH         131  15.30714  120.79762   \n",
       "2  121.08      0     15,121.08  PH         130   6.56306  125.41000   \n",
       "3  121.08      1     15,121.08  PH         884   6.56306  125.41000   \n",
       "4  120.48      1  16.04,120.48  PH         881  17.17233  121.76469   \n",
       "\n",
       "  Country Code Type  Population  \n",
       "0           PH    A       89075  \n",
       "1           PH    A    10137737  \n",
       "2           PH    P           0  \n",
       "3           PH    P           0  \n",
       "4           PH    P           0  "
      ]
     },
     "execution_count": 13,
     "metadata": {},
     "output_type": "execute_result"
    }
   ],
   "source": [
    "print(len(merged_df))\n",
    "merged_df.head()"
   ]
  },
  {
   "cell_type": "code",
   "execution_count": 16,
   "metadata": {},
   "outputs": [
    {
     "name": "stdout",
     "output_type": "stream",
     "text": [
      "F1_score : 0.7452172132443341\n",
      "Precision : 0.7737690235952323\n",
      "Recall : 0.74400946916796\n"
     ]
    },
    {
     "name": "stderr",
     "output_type": "stream",
     "text": [
      "/home/rodrique/anaconda3/lib/python3.7/site-packages/sklearn/metrics/_classification.py:1245: UndefinedMetricWarning: Precision is ill-defined and being set to 0.0 in labels with no predicted samples. Use `zero_division` parameter to control this behavior.\n",
      "  _warn_prf(average, modifier, msg_start, len(result))\n",
      "/home/rodrique/anaconda3/lib/python3.7/site-packages/sklearn/metrics/_classification.py:1245: UndefinedMetricWarning: Recall is ill-defined and being set to 0.0 in labels with no true samples. Use `zero_division` parameter to control this behavior.\n",
      "  _warn_prf(average, modifier, msg_start, len(result))\n"
     ]
    }
   ],
   "source": [
    "# Evaluate desamb performance\n",
    "print('F1_score :', f1_score(merged_df['Cc'], merged_df['Country Code'], average=\"macro\"))\n",
    "print('Precision :' ,precision_score(merged_df['Cc'], merged_df['Country Code'], average=\"macro\"))\n",
    "print('Recall :', recall_score(merged_df['Cc'], merged_df['Country Code'], average=\"macro\"))    "
   ]
  },
  {
   "cell_type": "code",
   "execution_count": 18,
   "metadata": {},
   "outputs": [],
   "source": [
    "noidentique = merged_df.loc[merged_df['Cc'] != merged_df['Country Code']]"
   ]
  },
  {
   "cell_type": "code",
   "execution_count": 19,
   "metadata": {},
   "outputs": [
    {
     "data": {
      "text/html": [
       "<div>\n",
       "<style scoped>\n",
       "    .dataframe tbody tr th:only-of-type {\n",
       "        vertical-align: middle;\n",
       "    }\n",
       "\n",
       "    .dataframe tbody tr th {\n",
       "        vertical-align: top;\n",
       "    }\n",
       "\n",
       "    .dataframe thead th {\n",
       "        text-align: right;\n",
       "    }\n",
       "</style>\n",
       "<table border=\"1\" class=\"dataframe\">\n",
       "  <thead>\n",
       "    <tr style=\"text-align: right;\">\n",
       "      <th></th>\n",
       "      <th>source</th>\n",
       "      <th>name</th>\n",
       "      <th>lat_x</th>\n",
       "      <th>lng_x</th>\n",
       "      <th>DocNo</th>\n",
       "      <th>geom</th>\n",
       "      <th>Cc</th>\n",
       "      <th>Unnamed: 0</th>\n",
       "      <th>lat_y</th>\n",
       "      <th>lng_y</th>\n",
       "      <th>Country Code</th>\n",
       "      <th>Type</th>\n",
       "      <th>Population</th>\n",
       "    </tr>\n",
       "  </thead>\n",
       "  <tbody>\n",
       "    <tr>\n",
       "      <th>50</th>\n",
       "      <td>Bird_Flu_kills_40th_Indonesian</td>\n",
       "      <td>Hong Kong</td>\n",
       "      <td>22.30</td>\n",
       "      <td>114.20</td>\n",
       "      <td>14</td>\n",
       "      <td>22.3,114.2</td>\n",
       "      <td>CN</td>\n",
       "      <td>802</td>\n",
       "      <td>22.27832</td>\n",
       "      <td>114.17469</td>\n",
       "      <td>HK</td>\n",
       "      <td>P</td>\n",
       "      <td>7482500</td>\n",
       "    </tr>\n",
       "    <tr>\n",
       "      <th>65</th>\n",
       "      <td>China_and_Europe_face_new_avian_flu_outbreaks</td>\n",
       "      <td>Macedonia</td>\n",
       "      <td>41.60</td>\n",
       "      <td>21.70</td>\n",
       "      <td>18</td>\n",
       "      <td>41.6,21.7</td>\n",
       "      <td>MK</td>\n",
       "      <td>453</td>\n",
       "      <td>41.31367</td>\n",
       "      <td>-81.50845</td>\n",
       "      <td>US</td>\n",
       "      <td>P</td>\n",
       "      <td>11686</td>\n",
       "    </tr>\n",
       "    <tr>\n",
       "      <th>89</th>\n",
       "      <td>First_Iraqi_case_of_Avian_Flu_reported</td>\n",
       "      <td>Cairo</td>\n",
       "      <td>30.04</td>\n",
       "      <td>31.23</td>\n",
       "      <td>24</td>\n",
       "      <td>30.04,31.23</td>\n",
       "      <td>EG</td>\n",
       "      <td>579</td>\n",
       "      <td>30.87751</td>\n",
       "      <td>-84.20214</td>\n",
       "      <td>US</td>\n",
       "      <td>P</td>\n",
       "      <td>9752</td>\n",
       "    </tr>\n",
       "    <tr>\n",
       "      <th>90</th>\n",
       "      <td>First_Iraqi_case_of_Avian_Flu_reported</td>\n",
       "      <td>Ranya</td>\n",
       "      <td>36.25</td>\n",
       "      <td>44.88</td>\n",
       "      <td>24</td>\n",
       "      <td>36.25,44.88</td>\n",
       "      <td>IQ</td>\n",
       "      <td>575</td>\n",
       "      <td>-9.66913</td>\n",
       "      <td>-76.67248</td>\n",
       "      <td>PE</td>\n",
       "      <td>P</td>\n",
       "      <td>29</td>\n",
       "    </tr>\n",
       "    <tr>\n",
       "      <th>141</th>\n",
       "      <td>Gaza_Strip_reports_first_swine_flu_cases</td>\n",
       "      <td>Egypt</td>\n",
       "      <td>26.00</td>\n",
       "      <td>30.00</td>\n",
       "      <td>40</td>\n",
       "      <td>26,30</td>\n",
       "      <td>EG</td>\n",
       "      <td>645</td>\n",
       "      <td>-29.16765</td>\n",
       "      <td>26.95681</td>\n",
       "      <td>ZA</td>\n",
       "      <td>P</td>\n",
       "      <td>0</td>\n",
       "    </tr>\n",
       "    <tr>\n",
       "      <th>...</th>\n",
       "      <td>...</td>\n",
       "      <td>...</td>\n",
       "      <td>...</td>\n",
       "      <td>...</td>\n",
       "      <td>...</td>\n",
       "      <td>...</td>\n",
       "      <td>...</td>\n",
       "      <td>...</td>\n",
       "      <td>...</td>\n",
       "      <td>...</td>\n",
       "      <td>...</td>\n",
       "      <td>...</td>\n",
       "      <td>...</td>\n",
       "    </tr>\n",
       "    <tr>\n",
       "      <th>1075</th>\n",
       "      <td>Meteorite_blamed_for_mysterious_illness_in_Peru</td>\n",
       "      <td>Desaguadero</td>\n",
       "      <td>-16.56</td>\n",
       "      <td>-69.03</td>\n",
       "      <td>218</td>\n",
       "      <td>-16.56,-69.03</td>\n",
       "      <td>BO</td>\n",
       "      <td>233</td>\n",
       "      <td>-16.56556</td>\n",
       "      <td>-69.04167</td>\n",
       "      <td>PE</td>\n",
       "      <td>P</td>\n",
       "      <td>5329</td>\n",
       "    </tr>\n",
       "    <tr>\n",
       "      <th>1077</th>\n",
       "      <td>Meteorite_blamed_for_mysterious_illness_in_Peru</td>\n",
       "      <td>London</td>\n",
       "      <td>51.50</td>\n",
       "      <td>-0.12</td>\n",
       "      <td>218</td>\n",
       "      <td>51.50,-0.12</td>\n",
       "      <td>GB</td>\n",
       "      <td>231</td>\n",
       "      <td>39.88645</td>\n",
       "      <td>-83.44825</td>\n",
       "      <td>US</td>\n",
       "      <td>P</td>\n",
       "      <td>10060</td>\n",
       "    </tr>\n",
       "    <tr>\n",
       "      <th>1084</th>\n",
       "      <td>Former_Russian_spy_Litvinenko_dies,_radioactiv...</td>\n",
       "      <td>Britain</td>\n",
       "      <td>55.00</td>\n",
       "      <td>-3.00</td>\n",
       "      <td>221</td>\n",
       "      <td>55,-3</td>\n",
       "      <td>GB</td>\n",
       "      <td>1019</td>\n",
       "      <td>39.25288</td>\n",
       "      <td>-77.69694</td>\n",
       "      <td>US</td>\n",
       "      <td>P</td>\n",
       "      <td>0</td>\n",
       "    </tr>\n",
       "    <tr>\n",
       "      <th>1085</th>\n",
       "      <td>Former_Russian_spy_Litvinenko_dies,_radioactiv...</td>\n",
       "      <td>Moscow</td>\n",
       "      <td>55.75</td>\n",
       "      <td>37.61</td>\n",
       "      <td>221</td>\n",
       "      <td>55.75,37.61</td>\n",
       "      <td>RU</td>\n",
       "      <td>1024</td>\n",
       "      <td>46.73239</td>\n",
       "      <td>-117.00017</td>\n",
       "      <td>US</td>\n",
       "      <td>P</td>\n",
       "      <td>25060</td>\n",
       "    </tr>\n",
       "    <tr>\n",
       "      <th>1096</th>\n",
       "      <td>PM_of_Georgia_dies_of_gas_poisoning</td>\n",
       "      <td>Georgia</td>\n",
       "      <td>42.00</td>\n",
       "      <td>43.50</td>\n",
       "      <td>224</td>\n",
       "      <td>42,43.5</td>\n",
       "      <td>GE</td>\n",
       "      <td>160</td>\n",
       "      <td>32.75042</td>\n",
       "      <td>-83.50018</td>\n",
       "      <td>US</td>\n",
       "      <td>A</td>\n",
       "      <td>8975842</td>\n",
       "    </tr>\n",
       "  </tbody>\n",
       "</table>\n",
       "<p>117 rows × 13 columns</p>\n",
       "</div>"
      ],
      "text/plain": [
       "                                                 source         name  lat_x  \\\n",
       "50                       Bird_Flu_kills_40th_Indonesian    Hong Kong  22.30   \n",
       "65        China_and_Europe_face_new_avian_flu_outbreaks    Macedonia  41.60   \n",
       "89               First_Iraqi_case_of_Avian_Flu_reported        Cairo  30.04   \n",
       "90               First_Iraqi_case_of_Avian_Flu_reported        Ranya  36.25   \n",
       "141            Gaza_Strip_reports_first_swine_flu_cases        Egypt  26.00   \n",
       "...                                                 ...          ...    ...   \n",
       "1075    Meteorite_blamed_for_mysterious_illness_in_Peru  Desaguadero -16.56   \n",
       "1077    Meteorite_blamed_for_mysterious_illness_in_Peru       London  51.50   \n",
       "1084  Former_Russian_spy_Litvinenko_dies,_radioactiv...      Britain  55.00   \n",
       "1085  Former_Russian_spy_Litvinenko_dies,_radioactiv...       Moscow  55.75   \n",
       "1096                PM_of_Georgia_dies_of_gas_poisoning      Georgia  42.00   \n",
       "\n",
       "       lng_x  DocNo           geom  Cc  Unnamed: 0     lat_y      lng_y  \\\n",
       "50    114.20     14     22.3,114.2  CN         802  22.27832  114.17469   \n",
       "65     21.70     18      41.6,21.7  MK         453  41.31367  -81.50845   \n",
       "89     31.23     24    30.04,31.23  EG         579  30.87751  -84.20214   \n",
       "90     44.88     24    36.25,44.88  IQ         575  -9.66913  -76.67248   \n",
       "141    30.00     40          26,30  EG         645 -29.16765   26.95681   \n",
       "...      ...    ...            ...  ..         ...       ...        ...   \n",
       "1075  -69.03    218  -16.56,-69.03  BO         233 -16.56556  -69.04167   \n",
       "1077   -0.12    218    51.50,-0.12  GB         231  39.88645  -83.44825   \n",
       "1084   -3.00    221          55,-3  GB        1019  39.25288  -77.69694   \n",
       "1085   37.61    221    55.75,37.61  RU        1024  46.73239 -117.00017   \n",
       "1096   43.50    224        42,43.5  GE         160  32.75042  -83.50018   \n",
       "\n",
       "     Country Code Type  Population  \n",
       "50             HK    P     7482500  \n",
       "65             US    P       11686  \n",
       "89             US    P        9752  \n",
       "90             PE    P          29  \n",
       "141            ZA    P           0  \n",
       "...           ...  ...         ...  \n",
       "1075           PE    P        5329  \n",
       "1077           US    P       10060  \n",
       "1084           US    P           0  \n",
       "1085           US    P       25060  \n",
       "1096           US    A     8975842  \n",
       "\n",
       "[117 rows x 13 columns]"
      ]
     },
     "execution_count": 19,
     "metadata": {},
     "output_type": "execute_result"
    }
   ],
   "source": [
    "noidentique"
   ]
  },
  {
   "cell_type": "code",
   "execution_count": 20,
   "metadata": {},
   "outputs": [],
   "source": [
    "noidentique = noidentique.drop_duplicates(subset=['source','name','lat_x','lng_x','lat_y',\t'lng_y'], keep='first')"
   ]
  },
  {
   "cell_type": "code",
   "execution_count": 21,
   "metadata": {},
   "outputs": [],
   "source": [
    "noidentique.to_csv('../error/noidentique.csv', index = False)"
   ]
  },
  {
   "cell_type": "code",
   "execution_count": null,
   "metadata": {},
   "outputs": [],
   "source": []
  }
 ],
 "metadata": {
  "kernelspec": {
   "display_name": "Python 3",
   "language": "python",
   "name": "python3"
  },
  "language_info": {
   "codemirror_mode": {
    "name": "ipython",
    "version": 3
   },
   "file_extension": ".py",
   "mimetype": "text/x-python",
   "name": "python",
   "nbconvert_exporter": "python",
   "pygments_lexer": "ipython3",
   "version": "3.7.7"
  }
 },
 "nbformat": 4,
 "nbformat_minor": 4
}
