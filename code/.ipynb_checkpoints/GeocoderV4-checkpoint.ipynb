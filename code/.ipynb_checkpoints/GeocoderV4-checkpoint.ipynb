{
 "cells": [
  {
   "cell_type": "code",
   "execution_count": 4,
   "metadata": {},
   "outputs": [],
   "source": [
    "import pandas as pd\n",
    "from thefuzz import fuzz\n",
    "from thefuzz import process\n",
    "import json"
   ]
  },
  {
   "cell_type": "code",
   "execution_count": null,
   "metadata": {},
   "outputs": [],
   "source": [
    "######### desambiguation based on geonames data\n",
    "import geocoder\n",
    "key='kafando.rodrique'"
   ]
  },
  {
   "cell_type": "code",
   "execution_count": null,
   "metadata": {},
   "outputs": [],
   "source": [
    "def getNonAmbigusSneD(AllSneCandidateD):\n",
    "    NonAmbigusSne = {}\n",
    "    AmbigusSne = {}\n",
    "    AllCcode = {}\n",
    "    NonAmbCcode = {}\n",
    "    NoMatch = []\n",
    "    for sneCandK in AllSneCandidateD:\n",
    "        tuples = [tuple(i) for i in AllSneCandidateD[sneCandK]]\n",
    "#         print(\"******\",(tuples))\n",
    "        AllCcode[sneCandK] = list(set([x[3] for x in tuples]))\n",
    "        if len(set(tuples)) ==0:\n",
    "            NoMatch.append(sneCandK)\n",
    "            \n",
    "        elif len(set(tuples)) ==1:\n",
    "            NonAmbigusSne[sneCandK] = {}\n",
    "            NonAmbigusSne[sneCandK] = tuples[0]\n",
    "            NonAmbCcode[sneCandK] = list(set([x[3] for x in tuples]))\n",
    "            print('$$$$$1 NonAmbCc', NonAmbigusSne)\n",
    "        elif len(set([x[3] for x in tuples])) == 1:     \n",
    "            if tuples[0][4]=='A' and  tuples[0][5]>=0:\n",
    "#                 print(\"***\",tuples[0])\n",
    "                NonAmbigusSne[sneCandK] = {}\n",
    "                NonAmbigusSne[sneCandK] = tuples[0]\n",
    "                NonAmbCcode[sneCandK] = list(set([x[3] for x in tuples]))\n",
    "                print('$$$$$2 NonAmbCc', NonAmbigusSne)\n",
    "        \n",
    "                \n",
    "            elif tuples[0][4]=='P' and tuples[0][5]>=0:\n",
    "#                 print(\"$$$\",tuples[0])\n",
    "                NonAmbigusSne[sneCandK] = {}\n",
    "                NonAmbigusSne[sneCandK] = tuples[0]  \n",
    "                NonAmbCcode[sneCandK] = list(set([x[3] for x in tuples]))\n",
    "                print('$$$$$3 NonAmbCc', NonAmbigusSne)                   \n",
    "                                \n",
    "        else:\n",
    "            AmbigusSne[sneCandK] = {}\n",
    "            AmbigusSne[sneCandK]=tuples\n",
    "        if len(NoMatch)>0:\n",
    "            print(\"No match for SNE in :\", list(set(NoMatch)))\n",
    "            print(\"\\n\")\n",
    "    return NonAmbigusSne, AmbigusSne, AllCcode, NonAmbCcode"
   ]
  },
  {
   "cell_type": "code",
   "execution_count": null,
   "metadata": {},
   "outputs": [],
   "source": [
    "def contains_word(s, w):\n",
    "    return (' ' + w + ' ') in (' ' + s + ' ')"
   ]
  },
  {
   "cell_type": "code",
   "execution_count": null,
   "metadata": {},
   "outputs": [],
   "source": []
  },
  {
   "cell_type": "code",
   "execution_count": null,
   "metadata": {},
   "outputs": [],
   "source": [
    "def subStrMatch(NotAsSne):\n",
    "    for k in NotAsSne:\n",
    "        subStringMatch = list(set([x for x in NotAsSne[k] if contains_word(k, x[0]) ]))\n",
    "    return subStringMatch\n",
    "#     print(subStringMatch)"
   ]
  },
  {
   "cell_type": "code",
   "execution_count": null,
   "metadata": {},
   "outputs": [],
   "source": [
    "def fuzzyMatch(NotAsSne, nonAMbiguous):\n",
    "    toBeDesambAgain = {}\n",
    "    for amb in NotAsSne:\n",
    "        print(\"debugging\", amb)\n",
    "        NotAsSneDesam = {}\n",
    "        ambL =  [x[0] for x in NotAsSne[amb]]\n",
    "        val = process.extract(amb, ambL, limit=1)\n",
    "        print(amb, val)\n",
    "        if len(val)>0:\n",
    "            MaxSplitVal= max(val[0][0].split(), key=len)\n",
    "        else:\n",
    "            print(amb , \"has no candidate\")\n",
    "            pass\n",
    "        ###\n",
    "        #\n",
    "        ###\n",
    "        if len(val)>0 and contains_word(amb, MaxSplitVal) and val[0][1]>=80:\n",
    "#         if len(val)>0 and val[0][1]>=90:\n",
    "#         if len(val)>0 and val[0][1]>80:\n",
    "            pc = [x for x in NotAsSne[amb] if x[0]==val[0][0]][0]\n",
    "            NotAsSneDesam[amb] = pc\n",
    "            nonAMbiguous.update(NotAsSneDesam)\n",
    "        elif len(val)>0 and val[0][1]>=90 and amb not in NotAsSneDesam:\n",
    "            pc = [x for x in NotAsSne[amb] if x[0]==val[0][0]][0]\n",
    "            NotAsSneDesam[amb] = pc\n",
    "            nonAMbiguous.update(NotAsSneDesam)\n",
    "        else:\n",
    "            toBeDesambAgain[amb] = NotAsSne[amb]\n",
    "    return nonAMbiguous, toBeDesambAgain"
   ]
  },
  {
   "cell_type": "code",
   "execution_count": 2,
   "metadata": {},
   "outputs": [],
   "source": []
  },
  {
   "cell_type": "code",
   "execution_count": 2,
   "metadata": {},
   "outputs": [],
   "source": [
    "def desam_process(AllSneCandidateD, NotAsSne):\n",
    "    NonAmbigusSne, AmbigusSne, AllCcode, NonAmbCcode = getNonAmbigusSneD(AllSneCandidateD)\n",
    "    NonAmbigusSne, toBeDesambAgain = fuzzyMatch(NotAsSne, NonAmbigusSne)\n",
    "    return NonAmbigusSne, AmbigusSne, toBeDesambAgain, AllCcode, NonAmbCcode"
   ]
  },
  {
   "cell_type": "code",
   "execution_count": null,
   "metadata": {},
   "outputs": [],
   "source": []
  },
  {
   "cell_type": "code",
   "execution_count": null,
   "metadata": {},
   "outputs": [],
   "source": []
  },
  {
   "cell_type": "code",
   "execution_count": 3,
   "metadata": {},
   "outputs": [],
   "source": [
    "def dicToDfv4(Final):\n",
    "    df = pd.DataFrame(Final.items())  \n",
    "#     columns=['SNE Name', 'lat', 'lng', 'Country Code', 'Type', 'Population']\n",
    "#     df[columns] = pd.DataFrame(df[1].tolist(), index=df.index)\n",
    "#     df = df[columns]\n",
    "    return df"
   ]
  },
  {
   "cell_type": "code",
   "execution_count": null,
   "metadata": {},
   "outputs": [],
   "source": [
    "def dicToDf(Final):\n",
    "    df = pd.DataFrame(Final.items())  \n",
    "    columns=['SNE Name', 'lat', 'lng', 'Country Code', 'Type', 'Population']\n",
    "    df[columns] = pd.DataFrame(df[1].tolist(), index=df.index)\n",
    "    df = df[columns]\n",
    "    return df"
   ]
  },
  {
   "cell_type": "code",
   "execution_count": 7,
   "metadata": {},
   "outputs": [],
   "source": [
    "def keys_with_top_values(my_dict):\n",
    "    return [key  for (key, value) in my_dict.items() if value == max(my_dict.values())]"
   ]
  },
  {
   "cell_type": "code",
   "execution_count": 1,
   "metadata": {},
   "outputs": [],
   "source": [
    "def scoreSneCc(AmbigusSne, AllCcode, NonAmbCcode):\n",
    "    Score = {}\n",
    "    Desambig = {}\n",
    "    for k in AmbigusSne:\n",
    "        Score[k] = {}\n",
    "        for Cc in AllCcode[k]:\n",
    "            Score[k][Cc] = 0\n",
    "            for v in AllCcode:\n",
    "                if Cc in AllCcode[v]:\n",
    "                     Score[k][Cc] += 1\n",
    "                else:\n",
    "                    pass    \n",
    "#             for vv in NonAmbCcode:\n",
    "#                 if Cc in NonAmbCcode[vv]:\n",
    "#                     Score[k][Cc] = Score[k][Cc] + 1\n",
    "#                 else:\n",
    "#                     pass        \n",
    "#     print(Score)\n",
    "    for k2 in Score:\n",
    "        print('%%%%',k2, 'Scoring')\n",
    "        print({k: v for k, v in sorted(Score[k2].items(), key=lambda item: item[1], reverse=True)})\n",
    "        bestLoc = None\n",
    "        potentialLoc = keys_with_top_values(Score[k2])\n",
    "        print('potentialLoc :',potentialLoc)\n",
    "        if len(potentialLoc) == 1:\n",
    "            bestLoc = potentialLoc[0]\n",
    "            print('%%%%££££1',bestLoc, 'bestLoc')\n",
    "        elif len(potentialLoc) > 1:\n",
    "            tempLoc = [i for i in  AmbigusSne[k2] if i[3] in potentialLoc]\n",
    "            bestLoc = max(tempLoc,key=lambda item:item[5])[3]\n",
    "            print('tempLoc', tempLoc)\n",
    "            print('%%%%££££2',bestLoc, 'bestLoc')\n",
    "#         bestLoc = max(Score[k2], key=Score[k2].get)\n",
    "        \n",
    "#         print('$$$$$',max(Score[k2], key=Score[k2].get))\n",
    "        potentialCandid = [c for c in AmbigusSne[k2] if c[3] ==bestLoc]\n",
    "        print('potentialCandid :', potentialCandid)\n",
    "#         print(potentialCandid)\n",
    "#         print(max(potentialCandid,key=lambda item:item[5]))\n",
    "        Desambig[k2] = max(potentialCandid,key=lambda item:item[5])\n",
    "\n",
    "    return Desambig"
   ]
  },
  {
   "cell_type": "code",
   "execution_count": null,
   "metadata": {},
   "outputs": [],
   "source": []
  },
  {
   "cell_type": "code",
   "execution_count": 3,
   "metadata": {},
   "outputs": [],
   "source": [
    "def render(Final_AllSneCandidate, NotAsSnefile):\n",
    "    CandidateD = readCandSne(Final_AllSneCandidate)\n",
    "    NotAsSneD = readCandSne(NotAsSnefile)\n",
    "    NonAmbigusSne, AmbigusSne, toBeDesambAgain, AllCcode, NonAmbCcode = desam_process(AllSneCandidateD, NotAsSne)\n",
    "\n",
    "    print(\"********Non-Ambiguous********\\n\")\n",
    "    for v in NonAmbigusSne:\n",
    "        print(v , ':', NonAmbigusSne[v])\n",
    "    print('\\n')\n",
    "    print(\"********Ambiguous********\\n\")\n",
    "    for t in AmbigusSne:\n",
    "        print(t , ':', len(AmbigusSne[t]), 'Candidates found')\n",
    "    print('\\n')\n",
    "    if len(NonAmbigusSne)>0:        \n",
    "        Final = dict(NonAmbigusSne)  # or orig.copy()\n",
    "    else:\n",
    "        pass\n",
    "\n",
    "    if len(AmbigusSne)>0:\n",
    "#             Desambig = scoreSneCc(AmbigusSne, Ccode) # V0 and V1\n",
    "        Desambig = scoreSneCc(AmbigusSne, AllCcode, NonAmbCcode)\n",
    "        Final.update(Desambig)\n",
    "        df = dicToDf(Final)\n",
    "        fnamesrc = Path(doc).stem\n",
    "        df['source'] = fnamesrc\n",
    "#             return  df\n",
    "        df_list.append(df)\n",
    "    else:\n",
    "        pass        \n",
    "\n",
    "    Alldf =  pd.concat(df_list, ignore_index=True)\n",
    "    return Alldf\n",
    "# http://localhost:8888/notebooks/Bureau/Jupyter-notebook/Beyond/GeoCv1/deepmain.ipynb#"
   ]
  },
  {
   "cell_type": "code",
   "execution_count": null,
   "metadata": {},
   "outputs": [],
   "source": []
  },
  {
   "cell_type": "code",
   "execution_count": null,
   "metadata": {},
   "outputs": [],
   "source": []
  },
  {
   "cell_type": "code",
   "execution_count": null,
   "metadata": {},
   "outputs": [],
   "source": []
  },
  {
   "cell_type": "code",
   "execution_count": null,
   "metadata": {},
   "outputs": [],
   "source": []
  },
  {
   "cell_type": "code",
   "execution_count": 5,
   "metadata": {},
   "outputs": [],
   "source": [
    "# def scoreSneCc(AmbigusSne, Ccode):\n",
    "#     Score = {}\n",
    "#     Desambig = {}\n",
    "#     for k in AmbigusSne:\n",
    "#         Score[k] = {}\n",
    "#         for Cc in Ccode[k]:\n",
    "#             Score[k][Cc] = 0\n",
    "#             for v in Ccode:\n",
    "#                 if Cc in Ccode[v]:\n",
    "#                      Score[k][Cc] += 1\n",
    "# #     print(Score)\n",
    "#     for k2 in Score:\n",
    "#         bestLoc = max(Score[k2], key=Score[k2].get)\n",
    "#         print('%%%%',k2, 'Scoring')\n",
    "#         print({k: v for k, v in sorted(Score[k2].items(), key=lambda item: item[1], reverse=True)})\n",
    "# #         print('$$$$$',max(Score[k2], key=Score[k2].get))\n",
    "#         potentialCandid = [c for c in AmbigusSne[k2] if c[3] ==bestLoc]\n",
    "# #         print(potentialCandid)\n",
    "# #         print(max(potentialCandid,key=lambda item:item[5]))\n",
    "#         Desambig[k2] = max(potentialCandid,key=lambda item:item[5])\n",
    "\n",
    "#     return Desambig"
   ]
  },
  {
   "cell_type": "code",
   "execution_count": 6,
   "metadata": {},
   "outputs": [],
   "source": [
    "\"\"\" \n",
    "for each SNE extracted from the document, return its potential candidate\n",
    "\"\"\"\n",
    "def defaultGeocoding(listOfSne,lang):\n",
    "    AllSneCandidateD = {}\n",
    "    for sne in listOfSne:\n",
    "        geo = geocoder.geonames(sne, key=key, lang =lang) #,country=['GB']\n",
    "        Candidates = list(set([(r.address, r.lat, r.lng, r.country_code ,r.feature_class, r.population) for r in geo]))\n",
    "        \"\"\" Parmis les candidats retournés, ne garder que ceux dont les noms correspondent \n",
    "        vraiment au nom de la sne\n",
    "        \"\"\"\n",
    "#         SameNameAsSne = [sn for sn in Candidates if sn[0]==sne]\n",
    "        AllSneCandidateD[sne] = Candidates[0]#SameNameAsSne\n",
    "\n",
    "#         NameNotAsSne = [sn for sn in Candidates if sn[0]!=sne]\n",
    "#         AllSneCandidateD[sne] = Candidates[0]#SameNameAsSne\n",
    "\n",
    "    df = dicToDf(AllSneCandidateD)\n",
    "    return df #NonAmbigusSne, AmbigusSne, Ccode"
   ]
  },
  {
   "cell_type": "code",
   "execution_count": null,
   "metadata": {},
   "outputs": [],
   "source": []
  },
  {
   "cell_type": "code",
   "execution_count": 2,
   "metadata": {},
   "outputs": [],
   "source": [
    "def read_record(f):\n",
    "    with open(f, \"r\") as read_file:\n",
    "        tmpCand = json.load(read_file)\n",
    "        tmpCand = tmpCand[0]\n",
    "    return tmpCand"
   ]
  },
  {
   "cell_type": "code",
   "execution_count": 1,
   "metadata": {},
   "outputs": [],
   "source": [
    "def geocoderv4(file):\n",
    "    tmpCand = read_record(file)\n",
    "    df_list = []\n",
    "    toBeDesambAgainilist = []\n",
    "    for k in tmpCand:\n",
    "        print('***',k)\n",
    "        assne = tmpCand[k]['assne']\n",
    "        notassne = tmpCand[k]['notassne']\n",
    "    \n",
    "        NonAmbigusSne, AmbigusSne, AllCcode, NonAmbCcode = getNonAmbigusSneD(assne)\n",
    "        NonAmbigusSne, toBeDesambAgain = fuzzyMatch(notassne, NonAmbigusSne)\n",
    "        print(\"$$$$$$ NotAsSne\", toBeDesambAgain.keys(), '\\n')\n",
    "        df_toBeDesambAgain = dicToDfv4(toBeDesambAgain)\n",
    "        df_toBeDesambAgain['source'] = k\n",
    "        toBeDesambAgainilist.append(df_toBeDesambAgain)\n",
    "        \"\"\"END V2\"\"\"\n",
    "\n",
    "        print(\"********Non-Ambiguous********\\n\")\n",
    "        for v in NonAmbigusSne:\n",
    "            print(v , ':', NonAmbigusSne[v])\n",
    "        print('\\n')\n",
    "        print(\"********Ambiguous********\\n\")\n",
    "        for t in AmbigusSne:\n",
    "            print(t , ':', len(AmbigusSne[t]), 'Candidates found')\n",
    "        print('\\n')\n",
    "        if len(NonAmbigusSne)>0:        \n",
    "            Final = dict(NonAmbigusSne)  # or orig.copy()\n",
    "        else:\n",
    "            pass\n",
    "        \n",
    "        if len(AmbigusSne)>0:\n",
    "#             Desambig = scoreSneCc(AmbigusSne, Ccode) # V0 and V1\n",
    "            Desambig = scoreSneCc(AmbigusSne, AllCcode, NonAmbCcode)\n",
    "            Final.update(Desambig)\n",
    "            df = dicToDf(Final)\n",
    "#             fnamesrc = Path(doc).stem\n",
    "            df['source'] = k\n",
    "#             return  df\n",
    "            df_list.append(df)\n",
    "        else:\n",
    "            pass        \n",
    "        \n",
    "    Alldf =  pd.concat(df_list, ignore_index=True)\n",
    "    \n",
    "    All_toBeDesambAgain = pd.concat(toBeDesambAgainilist, ignore_index=True)\n",
    "    All_toBeDesambAgain.to_csv('../tobedesamAgain/toBeDesambAgainv4.csv')\n",
    "    return Alldf"
   ]
  },
  {
   "cell_type": "code",
   "execution_count": null,
   "metadata": {},
   "outputs": [],
   "source": [
    "# listOfSne = ['Canada', 'France', 'Burkina Faso', 'Gueswendé', 'Banfora', 'Kaya']\n",
    "# l1 =  ['Arlington', 'Angleterre', 'Devon du Nord']\n",
    "# l3 =  ['comté de Logan', 'Lincoln', 'États-Unis', 'Illinois']"
   ]
  },
  {
   "cell_type": "code",
   "execution_count": null,
   "metadata": {},
   "outputs": [],
   "source": []
  },
  {
   "cell_type": "code",
   "execution_count": null,
   "metadata": {},
   "outputs": [],
   "source": []
  },
  {
   "cell_type": "code",
   "execution_count": null,
   "metadata": {},
   "outputs": [],
   "source": []
  },
  {
   "cell_type": "code",
   "execution_count": null,
   "metadata": {},
   "outputs": [],
   "source": []
  },
  {
   "cell_type": "code",
   "execution_count": null,
   "metadata": {},
   "outputs": [],
   "source": []
  },
  {
   "cell_type": "code",
   "execution_count": null,
   "metadata": {},
   "outputs": [],
   "source": []
  },
  {
   "cell_type": "code",
   "execution_count": null,
   "metadata": {},
   "outputs": [],
   "source": []
  },
  {
   "cell_type": "code",
   "execution_count": null,
   "metadata": {},
   "outputs": [],
   "source": []
  },
  {
   "cell_type": "code",
   "execution_count": null,
   "metadata": {},
   "outputs": [],
   "source": []
  },
  {
   "cell_type": "code",
   "execution_count": null,
   "metadata": {},
   "outputs": [],
   "source": []
  },
  {
   "cell_type": "code",
   "execution_count": null,
   "metadata": {},
   "outputs": [],
   "source": []
  }
 ],
 "metadata": {
  "kernelspec": {
   "display_name": "Python 3",
   "language": "python",
   "name": "python3"
  },
  "language_info": {
   "codemirror_mode": {
    "name": "ipython",
    "version": 3
   },
   "file_extension": ".py",
   "mimetype": "text/x-python",
   "name": "python",
   "nbconvert_exporter": "python",
   "pygments_lexer": "ipython3",
   "version": "3.7.7"
  }
 },
 "nbformat": 4,
 "nbformat_minor": 4
}
