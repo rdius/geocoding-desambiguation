{
 "cells": [
  {
   "cell_type": "code",
   "execution_count": 2,
   "metadata": {},
   "outputs": [],
   "source": [
    "import pandas as pd\n",
    "import nltk\n",
    "import spacy"
   ]
  },
  {
   "cell_type": "code",
   "execution_count": 3,
   "metadata": {},
   "outputs": [],
   "source": [
    "from titlecase import titlecase"
   ]
  },
  {
   "cell_type": "code",
   "execution_count": 5,
   "metadata": {},
   "outputs": [],
   "source": [
    "# extract spatial named entities from document\n",
    "def spacySne(text,nlp):\n",
    "    dc = nlp(text)\n",
    "    # only LOC and GPE lables are used\n",
    "    listOfSne = [str(ent) for ent in dc.ents if ent.label_ in  ['LOC' ,'GPE']]\n",
    "    prefix = 'the '\n",
    "    SneList = [string.lower()[string.lower().startswith(prefix) and len(prefix):].strip() for string in listOfSne]\n",
    "    SneList = [titlecase(st) for st in SneList]\n",
    "    return SneList"
   ]
  },
  {
   "cell_type": "code",
   "execution_count": 1,
   "metadata": {},
   "outputs": [],
   "source": []
  }
 ],
 "metadata": {
  "kernelspec": {
   "display_name": "Python 3",
   "language": "python",
   "name": "python3"
  },
  "language_info": {
   "codemirror_mode": {
    "name": "ipython",
    "version": 3
   },
   "file_extension": ".py",
   "mimetype": "text/x-python",
   "name": "python",
   "nbconvert_exporter": "python",
   "pygments_lexer": "ipython3",
   "version": "3.7.7"
  }
 },
 "nbformat": 4,
 "nbformat_minor": 4
}
